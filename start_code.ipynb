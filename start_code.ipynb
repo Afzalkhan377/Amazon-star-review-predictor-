{
 "cells": [
  {
   "cell_type": "markdown",
   "metadata": {},
   "source": [
    "# Libraries"
   ]
  },
  {
   "cell_type": "code",
   "execution_count": 35,
   "metadata": {},
   "outputs": [
    {
     "name": "stderr",
     "output_type": "stream",
     "text": [
      "[nltk_data] Downloading package stopwords to\n",
      "[nltk_data]     /Users/afzalkhan/nltk_data...\n",
      "[nltk_data]   Package stopwords is already up-to-date!\n"
     ]
    },
    {
     "data": {
      "text/plain": [
       "True"
      ]
     },
     "execution_count": 35,
     "metadata": {},
     "output_type": "execute_result"
    }
   ],
   "source": [
    "import pandas as pd\n",
    "import numpy as np\n",
    "import seaborn as sns\n",
    "import matplotlib.pyplot as plt\n",
    "from sklearn.feature_extraction.text import TfidfVectorizer\n",
    "from sklearn.model_selection import train_test_split, GridSearchCV\n",
    "from sklearn.metrics import accuracy_score, confusion_matrix, classification_report\n",
    "from sklearn.linear_model import LogisticRegression\n",
    "from scipy.sparse import hstack, csr_matrix\n",
    "import re\n",
    "import nltk\n",
    "from sklearn.model_selection import GridSearchCV\n",
    "from nltk.corpus import stopwords\n",
    "import warnings\n",
    "warnings.filterwarnings('ignore')\n",
    "nltk.download('stopwords')\n"
   ]
  },
  {
   "cell_type": "markdown",
   "metadata": {},
   "source": [
    "# Loading the Data"
   ]
  },
  {
   "cell_type": "code",
   "execution_count": 36,
   "metadata": {},
   "outputs": [
    {
     "name": "stdout",
     "output_type": "stream",
     "text": [
      "Train shape: (1697533, 9)\n",
      "Test shape: (212192, 2)\n",
      "train.csv shape is  (1697533, 9)\n",
      "test.csv shape is  (212192, 2)\n",
      "\n",
      "        Id   ProductId          UserId  HelpfulnessNumerator  \\\n",
      "0   914403  B0009W5KHM   AV6QDP8Q0ONK4                     2   \n",
      "1   354887  6303079709  A2I8RXJN80A2D2                     0   \n",
      "2  1407653  B004H0M2XC  A3FHV3RV8Z12E6                     0   \n",
      "3  1377458  B003ZJ9536  A12VLTA3ZHVPUY                     1   \n",
      "4   475323  630574453X  A13NM1PES9OXVN                     2   \n",
      "\n",
      "   HelpfulnessDenominator        Time  \\\n",
      "0                       2  1341014400   \n",
      "1                       0  1168819200   \n",
      "2                       0  1386201600   \n",
      "3                       1  1348704000   \n",
      "4                       3   970012800   \n",
      "\n",
      "                                         Summary  \\\n",
      "0                                  GOOD FUN FILM   \n",
      "1                                   Movie Review   \n",
      "2             When is it a good time to Consent?   \n",
      "3                                          TRUTH   \n",
      "4  Intelligent and bittersweet -- stays with you   \n",
      "\n",
      "                                                Text  Score  \n",
      "0  While most straight to DVD films are not worth...    5.0  \n",
      "1  I have wanted this one for sometime, also.  I ...    5.0  \n",
      "2  Actually this was a pretty darn good indie fil...    4.0  \n",
      "3  Episodes 37 to 72 of the series press on in a ...    5.0  \n",
      "4  I was really impressed with this movie, but wa...    3.0  \n",
      "\n",
      "        Id  Score\n",
      "0  1323432    NaN\n",
      "1  1137299    NaN\n",
      "2  1459366    NaN\n",
      "3   931601    NaN\n",
      "4  1311995    NaN\n",
      "\n",
      "                 Id  HelpfulnessNumerator  HelpfulnessDenominator  \\\n",
      "count  1.697533e+06          1.697533e+06            1.697533e+06   \n",
      "mean   8.487660e+05          3.569048e+00            5.301422e+00   \n",
      "std    4.900357e+05          1.727883e+01            2.024445e+01   \n",
      "min    0.000000e+00          0.000000e+00            0.000000e+00   \n",
      "25%    4.243830e+05          0.000000e+00            0.000000e+00   \n",
      "50%    8.487660e+05          1.000000e+00            1.000000e+00   \n",
      "75%    1.273149e+06          3.000000e+00            5.000000e+00   \n",
      "max    1.697532e+06          6.084000e+03            6.510000e+03   \n",
      "\n",
      "               Time         Score  \n",
      "count  1.697533e+06  1.485341e+06  \n",
      "mean   1.262422e+09  4.110517e+00  \n",
      "std    1.289277e+08  1.197651e+00  \n",
      "min    8.793792e+08  1.000000e+00  \n",
      "25%    1.164413e+09  4.000000e+00  \n",
      "50%    1.307491e+09  5.000000e+00  \n",
      "75%    1.373242e+09  5.000000e+00  \n",
      "max    1.406074e+09  5.000000e+00  \n"
     ]
    },
    {
     "data": {
      "image/png": "[encoded data removed]",
      "text/plain": [
       "<Figure size 640x480 with 1 Axes>"
      ]
     },
     "metadata": {},
     "output_type": "display_data"
    },
    {
     "name": "stdout",
     "output_type": "stream",
     "text": [
      "\n",
      "EVERYTHING IS PROPERLY SET UP! YOU ARE READY TO START\n"
     ]
    }
   ],
   "source": [
    "train_df = pd.read_csv('./data/train.csv')\n",
    "test_df = pd.read_csv('./data/test.csv')\n",
    "\n",
    "print(\"Train shape:\", train_df.shape)\n",
    "print(\"Test shape:\", test_df.shape)\n",
    "trainingSet = pd.read_csv(\"./data/train.csv\")\n",
    "testingSet = pd.read_csv(\"./data/test.csv\")\n",
    "\n",
    "print(\"train.csv shape is \", trainingSet.shape)\n",
    "print(\"test.csv shape is \", testingSet.shape)\n",
    "\n",
    "print()\n",
    "\n",
    "print(trainingSet.head())\n",
    "print()\n",
    "print(testingSet.head())\n",
    "\n",
    "print()\n",
    "\n",
    "print(trainingSet.describe())\n",
    "\n",
    "trainingSet['Score'].value_counts().plot(kind='bar', legend=True, alpha=.5)\n",
    "plt.show()\n",
    "\n",
    "print()\n",
    "print(\"EVERYTHING IS PROPERLY SET UP! YOU ARE READY TO START\")"
   ]
  },
  {
   "cell_type": "markdown",
   "metadata": {},
   "source": [
    "# Feature Engineering"
   ]
  },
  {
   "cell_type": "code",
   "execution_count": 37,
   "metadata": {},
   "outputs": [],
   "source": [
    "# Sample a fraction of the training data for efficiency\n",
    "def sample_training_data(train_df, fraction=0.1, random_state=42):\n",
    "    return train_df.sample(frac=fraction, random_state=random_state)\n",
    "\n",
    "# Add new features to the dataset\n",
    "def add_features_to(df):\n",
    "    df['HelpfulnessDenominator'] = df['HelpfulnessDenominator'].replace(0, np.nan)\n",
    "    df['Helpfulness'] = df['HelpfulnessNumerator'] / df['HelpfulnessDenominator']\n",
    "    df['Helpfulness'] = df['Helpfulness'].fillna(0)\n",
    "    df['Summary'] = df['Summary'].fillna('')\n",
    "    df['Text'] = df['Text'].fillna('')\n",
    "    df['Summary_length'] = df['Summary'].str.len()\n",
    "    df['Text_length'] = df['Text'].str.len()\n",
    "    return df\n"
   ]
  },
  {
   "cell_type": "markdown",
   "metadata": {},
   "source": [
    "# Preprocessing"
   ]
  },
  {
   "cell_type": "code",
   "execution_count": 38,
   "metadata": {},
   "outputs": [],
   "source": [
    "# Extract test data based on IDs\n",
    "def extract_test_data(train_df, test_df):\n",
    "    test_ids = test_df['Id'].unique()\n",
    "    test_data = train_df[train_df['Id'].isin(test_ids)].copy()\n",
    "    return add_features_to(test_data).reset_index(drop=True)"
   ]
  },
  {
   "cell_type": "code",
   "execution_count": 39,
   "metadata": {},
   "outputs": [],
   "source": [
    "def preprocess_text_simple(text):\n",
    "    # Remove non-alphabetic characters and convert to lowercase\n",
    "    text = re.sub('[^a-zA-Z]', ' ', text).lower()\n",
    "    # Remove stop words\n",
    "    words = [word for word in text.split() if word not in stop_words]\n",
    "    # Join words back into one string\n",
    "    return ' '.join(words)\n",
    "\n",
    "\n",
    "train_sample['Combined_Text'] = train_sample['Summary'] + ' ' + train_sample['Text']\n",
    "test_data['Combined_Text'] = test_data['Summary'] + ' ' + test_data['Text']\n",
    "train_sample['Cleaned_Text'] = train_sample['Combined_Text'].apply(preprocess_text_simple)\n",
    "test_data['Cleaned_Text'] = test_data['Combined_Text'].apply(preprocess_text_simple)\n"
   ]
  },
  {
   "cell_type": "code",
   "execution_count": 40,
   "metadata": {},
   "outputs": [],
   "source": [
    "# Preprocess text by removing non-alphabetic characters, converting to lowercase, and removing stop words\n",
    "def preprocess_text_simple(text):\n",
    "    stop_words = set(stopwords.words('english'))\n",
    "    text = re.sub('[^a-zA-Z]', ' ', text).lower()\n",
    "    words = [word for word in text.split() if word not in stop_words]\n",
    "    return ' '.join(words)\n",
    "\n",
    "# Combine and clean text fields in train and test data\n",
    "def preprocess_combined_text(data):\n",
    "    data['Combined_Text'] = data['Summary'] + ' ' + data['Text']\n",
    "    data['Cleaned_Text'] = data['Combined_Text'].apply(preprocess_text_simple)\n",
    "    return data"
   ]
  },
  {
   "cell_type": "code",
   "execution_count": 41,
   "metadata": {},
   "outputs": [],
   "source": [
    "# Vectorize text data using TF-IDF\n",
    "def vectorize_text_data(train_text, test_text, max_features=5000, ngram_range=(1,2)):\n",
    "    tfidf_vectorizer = TfidfVectorizer(max_features=max_features, ngram_range=ngram_range)\n",
    "    combined_text = pd.concat([train_text, test_text], axis=0)\n",
    "    tfidf_combined_text = tfidf_vectorizer.fit_transform(combined_text)\n",
    "    tfidf_train = tfidf_combined_text[:len(train_text)]\n",
    "    tfidf_test = tfidf_combined_text[len(train_text):]\n",
    "    return tfidf_train, tfidf_test\n"
   ]
  },
  {
   "cell_type": "code",
   "execution_count": 42,
   "metadata": {},
   "outputs": [],
   "source": [
    "# Vectorize text data using TF-IDF\n",
    "def vectorize_text_data(train_text, test_text, max_features=5000, ngram_range=(1,2)):\n",
    "    tfidf_vectorizer = TfidfVectorizer(max_features=max_features, ngram_range=ngram_range)\n",
    "    combined_text = pd.concat([train_text, test_text], axis=0)\n",
    "    tfidf_combined_text = tfidf_vectorizer.fit_transform(combined_text)\n",
    "    tfidf_train = tfidf_combined_text[:len(train_text)]\n",
    "    tfidf_test = tfidf_combined_text[len(train_text):]\n",
    "    return tfidf_train, tfidf_test\n"
   ]
  },
  {
   "cell_type": "code",
   "execution_count": 43,
   "metadata": {},
   "outputs": [],
   "source": [
    "# Prepare numeric features and combine them with TF-IDF features\n",
    "def prepare_features(train_df, test_df, tfidf_train, tfidf_test):\n",
    "    numeric_features = ['HelpfulnessNumerator', 'HelpfulnessDenominator', 'Helpfulness', 'Summary_length', 'Text_length']\n",
    "    X_train_numeric = train_df[numeric_features].fillna(0).reset_index(drop=True)\n",
    "    X_test_numeric = test_df[numeric_features].fillna(0).reset_index(drop=True)\n",
    "    X_train_combined = hstack([tfidf_train, csr_matrix(X_train_numeric.values)])\n",
    "    X_test_combined = hstack([tfidf_test, csr_matrix(X_test_numeric.values)])\n",
    "    return X_train_combined, X_test_combined\n"
   ]
  },
  {
   "cell_type": "code",
   "execution_count": 44,
   "metadata": {},
   "outputs": [],
   "source": [
    "# Perform hyperparameter tuning using GridSearchCV\n",
    "def tune_logistic_regression(X_train, y_train, param_grid, class_weights='balanced', max_iter=500, cv=3):\n",
    "    grid_search = GridSearchCV(\n",
    "        LogisticRegression(max_iter=max_iter, class_weight=class_weights),\n",
    "        param_grid,\n",
    "        cv=cv,\n",
    "        scoring='accuracy',\n",
    "        n_jobs=-1\n",
    "    )\n",
    "    grid_search.fit(X_train, y_train)\n",
    "    print(\"Best parameters found: \", grid_search.best_params_)\n",
    "    return grid_search.best_estimator_"
   ]
  },
  {
   "cell_type": "code",
   "execution_count": 45,
   "metadata": {},
   "outputs": [],
   "source": [
    "# Evaluate model on validation set\n",
    "def evaluate_model(model, X_valid, y_valid):\n",
    "    y_pred = model.predict(X_valid)\n",
    "    accuracy = accuracy_score(y_valid, y_pred)\n",
    "    print(\"Validation Accuracy:\", accuracy)\n",
    "    return accuracy\n"
   ]
  },
  {
   "cell_type": "code",
   "execution_count": 46,
   "metadata": {},
   "outputs": [],
   "source": [
    "# Train final model on complete training data and make predictions on test data\n",
    "def train_and_predict_final_model(model, X_train, y_train, X_test):\n",
    "    model.fit(X_train, y_train)\n",
    "    return model.predict(X_test)\n"
   ]
  },
  {
   "cell_type": "code",
   "execution_count": 47,
   "metadata": {},
   "outputs": [],
   "source": [
    "# Prepare submission file\n",
    "def create_submission_file(test_df, predictions, filename='submission.csv'):\n",
    "    submission = test_df[['Id']].copy()\n",
    "    submission['Score'] = predictions\n",
    "    submission.to_csv(filename, index=False)\n",
    "    print(\"Submission file created successfully!\")\n"
   ]
  },
  {
   "cell_type": "code",
   "execution_count": 48,
   "metadata": {},
   "outputs": [],
   "source": [
    "\n",
    "# Plot a confusion matrix\n",
    "def plot_confusion_matrix(Y_true, Y_pred):\n",
    "    cm = confusion_matrix(Y_true, Y_pred, normalize='true')  # Normalize to show proportions\n",
    "    plt.figure(figsize=(8, 6))\n",
    "    sns.heatmap(cm, annot=True, cmap='Blues', fmt='.2f')\n",
    "    plt.title('Confusion Matrix of the Classifier')\n",
    "    plt.xlabel('Predicted')\n",
    "    plt.ylabel('True')\n",
    "    plt.show()"
   ]
  },
  {
   "cell_type": "code",
   "execution_count": 49,
   "metadata": {},
   "outputs": [
    {
     "name": "stderr",
     "output_type": "stream",
     "text": [
      "/Users/afzalkhan/Library/Python/3.9/lib/python/site-packages/sklearn/linear_model/_logistic.py:1197: UserWarning: l1_ratio parameter is only used when penalty is 'elasticnet'. Got (penalty=l2)\n",
      "  warnings.warn(\n",
      "/Users/afzalkhan/Library/Python/3.9/lib/python/site-packages/sklearn/linear_model/_logistic.py:1197: UserWarning: l1_ratio parameter is only used when penalty is 'elasticnet'. Got (penalty=l2)\n",
      "  warnings.warn(\n",
      "/Users/afzalkhan/Library/Python/3.9/lib/python/site-packages/sklearn/linear_model/_logistic.py:1197: UserWarning: l1_ratio parameter is only used when penalty is 'elasticnet'. Got (penalty=l2)\n",
      "  warnings.warn(\n"
     ]
    },
    {
     "name": "stdout",
     "output_type": "stream",
     "text": [
      "Best parameters found:  {'C': 10, 'l1_ratio': 0.5, 'penalty': 'l2', 'solver': 'liblinear'}\n",
      "Validation Accuracy: 0.6326503136864213\n"
     ]
    },
    {
     "data": {
      "image/png": "[encoded data removed]",
      "text/plain": [
       "<Figure size 800x600 with 2 Axes>"
      ]
     },
     "metadata": {},
     "output_type": "display_data"
    },
    {
     "name": "stdout",
     "output_type": "stream",
     "text": [
      "Submission file created successfully!\n"
     ]
    }
   ],
   "source": [
    "# Updated main function to include confusion matrix plotting\n",
    "def main(train_df, test_df):\n",
    "    # Sample and add features to training data\n",
    "    train_sample = sample_training_data(train_df)\n",
    "    train_sample = add_features_to(train_sample).reset_index(drop=True)\n",
    "\n",
    "    # Prepare test data\n",
    "    test_data = extract_test_data(train_df, test_df)\n",
    "\n",
    "    # Preprocess text fields\n",
    "    train_sample = preprocess_combined_text(train_sample)\n",
    "    test_data = preprocess_combined_text(test_data)\n",
    "\n",
    "    # Vectorize text data\n",
    "    tfidf_train, tfidf_test = vectorize_text_data(train_sample['Cleaned_Text'], test_data['Cleaned_Text'])\n",
    "\n",
    "    # Prepare combined features\n",
    "    X_train_combined, X_test_combined = prepare_features(train_sample, test_data, tfidf_train, tfidf_test)\n",
    "    y_train = train_sample['Score']\n",
    "\n",
    "    # Split training data for validation\n",
    "    X_train_part, X_valid, y_train_part, y_valid = train_test_split(\n",
    "        X_train_combined, y_train, test_size=0.25, random_state=42)\n",
    "\n",
    "    # Parameter grid for Logistic Regression\n",
    "    param_grid = {'C': [10], 'solver': ['liblinear'], 'penalty': ['l2'], 'l1_ratio': [0.5]}\n",
    "\n",
    "    # Filter out NaN values from training/validation data\n",
    "    X_train_part = X_train_part[~y_train_part.isna()]\n",
    "    y_train_part = y_train_part[~y_train_part.isna()]\n",
    "    X_valid = X_valid[~y_valid.isna()]\n",
    "    y_valid = y_valid[~y_valid.isna()]\n",
    "\n",
    "    # Tune Logistic Regression and evaluate on validation data\n",
    "    best_model = tune_logistic_regression(X_train_part, y_train_part, param_grid)\n",
    "    evaluate_model(best_model, X_valid, y_valid)\n",
    "\n",
    "    # Plot confusion matrix\n",
    "    y_valid_pred = best_model.predict(X_valid)\n",
    "    plot_confusion_matrix(y_valid, y_valid_pred)\n",
    "\n",
    "    # Train on complete data and predict on test data\n",
    "    nan_mask = ~y_train.isna()\n",
    "    X_train_combined = X_train_combined[nan_mask]\n",
    "    y_train = y_train[nan_mask]\n",
    "    predictions = train_and_predict_final_model(best_model, X_train_combined, y_train, X_test_combined)\n",
    "\n",
    "    # Create and save submission file\n",
    "    create_submission_file(test_df, predictions)\n",
    "\n",
    "# Execute main function\n",
    "main(train_df, test_df)\n",
    "\n"
   ]
  },
  {
   "cell_type": "markdown",
   "metadata": {},
   "source": [
    "# Creating Submission File"
   ]
  },
  {
   "cell_type": "code",
   "execution_count": null,
   "metadata": {},
   "outputs": [],
   "source": []
  }
 ],
 "metadata": {
  "kernelspec": {
   "display_name": "Python 3 (ipykernel)",
   "language": "python",
   "name": "python3"
  },
  "language_info": {
   "codemirror_mode": {
    "name": "ipython",
    "version": 3
   },
   "file_extension": ".py",
   "mimetype": "text/x-python",
   "name": "python",
   "nbconvert_exporter": "python",
   "pygments_lexer": "ipython3",
   "version": "3.9.6"
  }
 },
 "nbformat": 4,
 "nbformat_minor": 4
}
